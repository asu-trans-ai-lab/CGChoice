{
  "nbformat": 4,
  "nbformat_minor": 0,
  "metadata": {
    "colab": {
      "name": "tensorflow.ipynb",
      "provenance": [],
      "authorship_tag": "ABX9TyNzygq1jqQ5W8vVS/rDC9M7",
      "include_colab_link": true
    },
    "kernelspec": {
      "name": "python3",
      "display_name": "Python 3"
    }
  },
  "cells": [
    {
      "cell_type": "markdown",
      "metadata": {
        "id": "view-in-github",
        "colab_type": "text"
      },
      "source": [
        "<a href=\"https://colab.research.google.com/github/asu-trans-ai-lab/CGChoice/blob/master/tensorflow.ipynb\" target=\"_parent\"><img src=\"https://colab.research.google.com/assets/colab-badge.svg\" alt=\"Open In Colab\"/></a>"
      ]
    },
    {
      "cell_type": "code",
      "metadata": {
        "colab": {
          "base_uri": "https://localhost:8080/"
        },
        "id": "-W4jflC2G4H7",
        "outputId": "74856951-1f26-4d77-983c-689dbdedb802"
      },
      "source": [
        "pip install cvxpylayers"
      ],
      "execution_count": 1,
      "outputs": [
        {
          "output_type": "stream",
          "text": [
            "Collecting cvxpylayers\n",
            "  Downloading https://files.pythonhosted.org/packages/6a/12/a2e94f9a0450bd3d20f2062c7f55ca8026b42478ef8fa3e5e510fe951084/cvxpylayers-0.1.4.tar.gz\n",
            "Requirement already satisfied: numpy>=1.15 in /usr/local/lib/python3.7/dist-packages (from cvxpylayers) (1.19.5)\n",
            "Requirement already satisfied: scipy>=1.1.0 in /usr/local/lib/python3.7/dist-packages (from cvxpylayers) (1.4.1)\n",
            "Collecting diffcp>=1.0.13\n",
            "\u001b[?25l  Downloading https://files.pythonhosted.org/packages/39/9f/de0ef10cd336b7f359f866df425d089f8c671e6c764fefcedb749db954cf/diffcp-1.0.16.tar.gz (2.2MB)\n",
            "\u001b[K     |████████████████████████████████| 2.2MB 8.9MB/s \n",
            "\u001b[?25hCollecting cvxpy>=1.1.0a4\n",
            "\u001b[?25l  Downloading https://files.pythonhosted.org/packages/b5/7e/ec053f8a89f0c380379f9af2066e55fa77adfd5ef7fa63923097b0e2896b/cvxpy-1.1.11.tar.gz (1.3MB)\n",
            "\u001b[K     |████████████████████████████████| 1.3MB 35.1MB/s \n",
            "\u001b[?25h  Installing build dependencies ... \u001b[?25l\u001b[?25hdone\n",
            "  Getting requirements to build wheel ... \u001b[?25l\u001b[?25hdone\n",
            "    Preparing wheel metadata ... \u001b[?25l\u001b[?25hdone\n",
            "Requirement already satisfied: scs>=2.0.2 in /usr/local/lib/python3.7/dist-packages (from diffcp>=1.0.13->cvxpylayers) (2.1.2)\n",
            "Requirement already satisfied: pybind11>=2.4 in /usr/local/lib/python3.7/dist-packages (from diffcp>=1.0.13->cvxpylayers) (2.6.2)\n",
            "Collecting threadpoolctl>=1.1\n",
            "  Downloading https://files.pythonhosted.org/packages/f7/12/ec3f2e203afa394a149911729357aa48affc59c20e2c1c8297a60f33f133/threadpoolctl-2.1.0-py3-none-any.whl\n",
            "Requirement already satisfied: ecos in /usr/local/lib/python3.7/dist-packages (from diffcp>=1.0.13->cvxpylayers) (2.0.7.post1)\n",
            "Requirement already satisfied: osqp>=0.4.1 in /usr/local/lib/python3.7/dist-packages (from cvxpy>=1.1.0a4->cvxpylayers) (0.6.2.post0)\n",
            "Requirement already satisfied: qdldl in /usr/local/lib/python3.7/dist-packages (from osqp>=0.4.1->cvxpy>=1.1.0a4->cvxpylayers) (0.1.5.post0)\n",
            "Building wheels for collected packages: cvxpy\n",
            "  Building wheel for cvxpy (PEP 517) ... \u001b[?25l\u001b[?25hdone\n",
            "  Created wheel for cvxpy: filename=cvxpy-1.1.11-cp37-cp37m-linux_x86_64.whl size=2725449 sha256=97e5587f04a8d1785d4630855fd4de4b427b07e335506398f783c0b0fbede97d\n",
            "  Stored in directory: /root/.cache/pip/wheels/df/d4/eb/c74e09a39bc4ac09b3a8d2a48c1c6009f391056d8c87bf68aa\n",
            "Successfully built cvxpy\n",
            "Building wheels for collected packages: cvxpylayers, diffcp\n",
            "  Building wheel for cvxpylayers (setup.py) ... \u001b[?25l\u001b[?25hdone\n",
            "  Created wheel for cvxpylayers: filename=cvxpylayers-0.1.4-cp37-none-any.whl size=18943 sha256=8935e22552dba7d29430bbfa308fa535e787e39309b482e1d7cfe7e67dab44ba\n",
            "  Stored in directory: /root/.cache/pip/wheels/a9/a4/9a/4c426a86d6b507b8279f0bb54b9bbbb6ac2eefdd1dd1b0fdd6\n",
            "  Building wheel for diffcp (setup.py) ... \u001b[?25l\u001b[?25hdone\n",
            "  Created wheel for diffcp: filename=diffcp-1.0.16-cp37-cp37m-linux_x86_64.whl size=3982945 sha256=d6a5c198c7e0cf22c33eac9544ca0ab736036336caab825eaa6a34b6afbc4063\n",
            "  Stored in directory: /root/.cache/pip/wheels/5f/30/f6/52fb68dc73616d60ae3cff0836dfbc8526d60fbf69294fc518\n",
            "Successfully built cvxpylayers diffcp\n",
            "Installing collected packages: threadpoolctl, diffcp, cvxpy, cvxpylayers\n",
            "  Found existing installation: cvxpy 1.0.31\n",
            "    Uninstalling cvxpy-1.0.31:\n",
            "      Successfully uninstalled cvxpy-1.0.31\n",
            "Successfully installed cvxpy-1.1.11 cvxpylayers-0.1.4 diffcp-1.0.16 threadpoolctl-2.1.0\n"
          ],
          "name": "stdout"
        }
      ]
    },
    {
      "cell_type": "code",
      "metadata": {
        "id": "oK1hKF6zHibG"
      },
      "source": [
        "import cvxpy as cp\r\n",
        "import tensorflow as tf\r\n",
        "from cvxpylayers.tensorflow import CvxpyLayer"
      ],
      "execution_count": 2,
      "outputs": []
    },
    {
      "cell_type": "code",
      "metadata": {
        "id": "4QXThRXbHtYB"
      },
      "source": [
        "n, m = 2, 3\r\n",
        "x = cp.Variable(n)\r\n",
        "A = cp.Parameter((m, n))\r\n",
        "b = cp.Parameter(m)\r\n",
        "constraints = [x >= 0]\r\n",
        "objective = cp.Minimize(0.5 * cp.pnorm(A @ x - b, p=1))\r\n",
        "problem = cp.Problem(objective, constraints)\r\n",
        "assert problem.is_dpp()\r\n",
        "\r\n",
        "cvxpylayer = CvxpyLayer(problem, parameters=[A, b], variables=[x])\r\n",
        "A_tf = tf.Variable(tf.random.normal((m, n)))\r\n",
        "b_tf = tf.Variable(tf.random.normal((m,)))\r\n",
        "\r\n",
        "with tf.GradientTape() as tape:\r\n",
        "  # solve the problem, setting the values of A, b to A_tf, b_tf\r\n",
        "  solution, = cvxpylayer(A_tf, b_tf)\r\n",
        "  summed_solution = tf.math.reduce_sum(solution)\r\n",
        "# compute the gradient of the summed solution with respect to A, b\r\n",
        "gradA, gradb = tape.gradient(summed_solution, [A_tf, b_tf])"
      ],
      "execution_count": 3,
      "outputs": []
    },
    {
      "cell_type": "code",
      "metadata": {
        "colab": {
          "base_uri": "https://localhost:8080/"
        },
        "id": "KX5XnDEAIOQ2",
        "outputId": "15541951-131c-4d84-ce70-6365eb883d33"
      },
      "source": [
        "summed_solution"
      ],
      "execution_count": 5,
      "outputs": [
        {
          "output_type": "execute_result",
          "data": {
            "text/plain": [
              "<tf.Tensor: shape=(), dtype=float64, numpy=0.45507420192913267>"
            ]
          },
          "metadata": {
            "tags": []
          },
          "execution_count": 5
        }
      ]
    },
    {
      "cell_type": "code",
      "metadata": {
        "colab": {
          "base_uri": "https://localhost:8080/"
        },
        "id": "qezppJjlIJnu",
        "outputId": "d1377452-849e-481c-e842-a11a87a9c3bf"
      },
      "source": [
        "gradA"
      ],
      "execution_count": 4,
      "outputs": [
        {
          "output_type": "execute_result",
          "data": {
            "text/plain": [
              "<tf.Tensor: shape=(3, 2), dtype=float64, numpy=\n",
              "array([[-2.94053145e-01,  2.89748914e-11],\n",
              "       [ 4.28637520e-12, -3.30627563e-12],\n",
              "       [ 6.71237595e-12, -3.30627563e-12]])>"
            ]
          },
          "metadata": {
            "tags": []
          },
          "execution_count": 4
        }
      ]
    }
  ]
}